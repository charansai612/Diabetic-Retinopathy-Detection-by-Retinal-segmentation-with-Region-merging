{
 "cells": [
  {
   "cell_type": "markdown",
   "metadata": {},
   "source": [
    "<center><h1>UNet</h1></center>\n",
    "\n",
    "![unet](https://miro.medium.com/max/609/1*TXfEPqTbFBPCbXYh2bstlA.png \"unet\")\n",
    "The u-net is convolutional network architecture for fast and precise segmentation of images\n",
    "\n",
    "**Here we are using UNet for predicting the retinal vessel segments of the kaggle dataset, which will be trained on DRIVE dataset which as the manually annotated segmentations** "
   ]
  },
  {
   "cell_type": "code",
   "execution_count": null,
   "metadata": {
    "id": "fVvPix0m7J9T"
   },
   "outputs": [],
   "source": [
    "# !pip install -q torch torchvision albumentations"
   ]
  },
  {
   "cell_type": "code",
   "execution_count": 1,
   "metadata": {
    "colab": {
     "base_uri": "https://localhost:8080/",
     "height": 36
    },
    "id": "_8NvGBv07XzD",
    "outputId": "bf8f2087-d0bb-4a79-c438-0d33615fad58"
   },
   "outputs": [
    {
     "data": {
      "application/vnd.google.colaboratory.intrinsic+json": {
       "type": "string"
      },
      "text/plain": [
       "'1.9.0+cu102'"
      ]
     },
     "execution_count": 1,
     "metadata": {
      "tags": []
     },
     "output_type": "execute_result"
    }
   ],
   "source": [
    "# Import Requried Libaries\n",
    "import os\n",
    "import cv2\n",
    "import imageio\n",
    "import torch\n",
    "import torchvision\n",
    "import albumentations as A\n",
    "import numpy as np\n",
    "import torch.nn as nn\n",
    "import torch.nn.functional as F\n",
    "from torch.utils.data import DataLoader, Dataset\n",
    "from torch.utils.data.sampler import SubsetRandomSampler\n",
    "from torch import optim\n",
    "from sklearn.model_selection import train_test_split\n",
    "from sklearn.feature_extraction.image import extract_patches_2d, reconstruct_from_patches_2d\n",
    "from scipy.signal import find_peaks\n",
    "from glob import glob\n",
    "import warnings\n",
    "\n",
    "warnings.filterwarnings('ignore')\n",
    "import matplotlib.pyplot as plt\n",
    "%matplotlib inline\n",
    "\n",
    "torch.__version__"
   ]
  },
  {
   "cell_type": "code",
   "execution_count": 3,
   "metadata": {
    "colab": {
     "base_uri": "https://localhost:8080/"
    },
    "id": "s_2IWPYN7sTA",
    "outputId": "aebbd987-aeb4-4b34-cb80-64c33832a20e"
   },
   "outputs": [
    {
     "data": {
      "text/plain": [
       "device(type='cuda')"
      ]
     },
     "execution_count": 3,
     "metadata": {
      "tags": []
     },
     "output_type": "execute_result"
    }
   ],
   "source": [
    "device = torch.device(\"cuda\" if torch.cuda.is_available() else \"cpu\")\n",
    "device"
   ]
  },
  {
   "cell_type": "code",
   "execution_count": null,
   "metadata": {
    "id": "tSsKQ0z980kI"
   },
   "outputs": [],
   "source": [
    "clahe = cv2.createCLAHE(clipLimit=2.0, tileGridSize=(8, 8))\n",
    "\n",
    "class DRIVEDataset(Dataset):\n",
    "    def __init__(self, root, augmentation=True):\n",
    "      self.root = root\n",
    "      self.images = list(sorted(os.listdir(os.path.join(self.root, \"images\"))))\n",
    "      self.masks = list(sorted(os.listdir(os.path.join(self.root, \"1st_manual\"))))\n",
    "      self.augmentation = augmentation\n",
    "      self.aug = A.Compose({A.HorizontalFlip(p=0.5), A.VerticalFlip(p=0.5)})\n",
    "        \n",
    "    def __len__(self):\n",
    "        return len(self.images)\n",
    "\n",
    "    @classmethod\n",
    "    def smooth(cls, x, window_len=11, window='hanning'):\n",
    "    #Ref: https://scipy-cookbook.readthedocs.io/items/SignalSmooth.html\n",
    "\n",
    "      if x.ndim != 1:\n",
    "          raise ValueError\n",
    "\n",
    "      if x.size < window_len:\n",
    "          raise ValueError\n",
    "\n",
    "\n",
    "      if window_len<3:\n",
    "          return x\n",
    "\n",
    "\n",
    "      if not window in ['flat', 'hanning', 'hamming', 'bartlett', 'blackman']:\n",
    "          raise ValueError\n",
    "\n",
    "\n",
    "      s=np.r_[x[window_len-1:0:-1],x,x[-2:-window_len-1:-1]]\n",
    "      #print(len(s))\n",
    "      if window == 'flat': #moving average\n",
    "          w=np.ones(window_len,'d')\n",
    "      else:\n",
    "          w=eval('np.'+window+'(window_len)')\n",
    "\n",
    "      y=np.convolve(w/w.sum(),s,mode='valid')\n",
    "      return y\n",
    "\n",
    "    @classmethod\n",
    "    def sub_bg(cls, img):\n",
    "      # Histogram\n",
    "      hist = cv2.calcHist([img], [0], None, [256], [0, 256])\n",
    "\n",
    "      # Smooth Histogram\n",
    "      hist_smooth = cls.smooth(hist.ravel(), 5)\n",
    "\n",
    "      # Find peaks\n",
    "      peaks, _ = find_peaks(hist_smooth, distance=10)\n",
    "      \n",
    "      threshold = np.std(img[peaks])\n",
    "      \n",
    "      binary_mask = (img > threshold)\n",
    "      \n",
    "      binary_mask = binary_mask.astype(\"uint8\")\n",
    "      \n",
    "      binary_mask[binary_mask == 1] = 255\n",
    "      \n",
    "      return binary_mask\n",
    "\n",
    "    @classmethod\n",
    "    def preprocessing(cls, image_path, mask_path):\n",
    "      image = cv2.imread(f\"{image_path}\")\n",
    "      image = cv2.cvtColor(image, cv2.COLOR_BGR2RGB)\n",
    "\n",
    "      R, G, B = cv2.split(image)\n",
    "\n",
    "      enh_img = clahe.apply(G)\n",
    "\n",
    "      mask = imageio.mimread(f\"{mask_path}\")[0]\n",
    "      mask = np.array(mask)\n",
    "\n",
    "      bin_mask = cls.sub_bg(G)\n",
    "\n",
    "      final_image = cv2.subtract(bin_mask, enh_img)\n",
    "\n",
    "      image = cv2.resize(final_image, (480, 480), cv2.INTER_AREA)\n",
    "      mask = cv2.resize(mask, (480, 480), cv2.INTER_AREA)\n",
    "\n",
    "      image = image / 255.0\n",
    "      image = image.astype(np.float32)\n",
    "\n",
    "      mask = mask / 255.0\n",
    "      mask = mask.astype(np.float32)\n",
    "\n",
    "      return image, mask\n",
    "\n",
    "    def __getitem__(self, idx):\n",
    "      image_path = os.path.join(self.root, \"images\", self.images[idx])\n",
    "      mask_path = os.path.join(self.root, \"1st_manual\", self.masks[idx])\n",
    "\n",
    "      image, mask = self.preprocessing(image_path, mask_path)\n",
    "\n",
    "      if self.augmentation:\n",
    "        transformed = self.aug(image=image, mask=mask)\n",
    "        image = transformed['image']\n",
    "        mask = transformed['mask']\n",
    "\n",
    "      image_patches = extract_patches_2d(image, (48, 48))\n",
    "      mask_patches = extract_patches_2d(mask, (48, 48))\n",
    "\n",
    "      random_patche = np.random.randint(image_patches.shape[0])\n",
    "\n",
    "      image = image_patches[random_patche]\n",
    "      mask = mask_patches[random_patche]\n",
    "\n",
    "      image = torch.from_numpy(image)\n",
    "      mask = torch.from_numpy(mask)\n",
    "\n",
    "      image.unsqueeze_(0)\n",
    "      mask.unsqueeze_(0)\n",
    "\n",
    "      return {'image': image,\n",
    "              'mask': mask}"
   ]
  },
  {
   "cell_type": "code",
   "execution_count": 33,
   "metadata": {
    "id": "qw56Qk3lM5RG"
   },
   "outputs": [],
   "source": [
    "class DRIVEDataset(Dataset):\n",
    "  def __init__(self, path, image_label, mask_label):\n",
    "    self.root = path\n",
    "    self.image_label = image_label\n",
    "    self.mask_label = mask_label\n",
    "    self.images = list(sorted(glob(self.root+self.image_label)))\n",
    "    self.masks = list(sorted(glob(self.root+self.mask_label)))\n",
    "\n",
    "  def __len__(self):\n",
    "    return len(self.images)\n",
    "\n",
    "  def __getitem__(self, idx):\n",
    "    image = torchvision.io.read_image(self.images[idx], torchvision.io.ImageReadMode.GRAY)\n",
    "    mask = torchvision.io.read_image(self.masks[idx], torchvision.io.ImageReadMode.GRAY)\n",
    "\n",
    "    image = image / 255.\n",
    "    mask = mask / 255.\n",
    "\n",
    "    image = torch.tensor(image, dtype=torch.float32)\n",
    "    mask = torch.tensor(mask, dtype=torch.float32)\n",
    "\n",
    "    return {'image': image,\n",
    "            'mask': mask}"
   ]
  },
  {
   "cell_type": "code",
   "execution_count": null,
   "metadata": {
    "id": "Y2szNXHP-I62"
   },
   "outputs": [],
   "source": [
    "ds = DRIVEDataset(\"data/DRIVE/training\", False)"
   ]
  },
  {
   "cell_type": "code",
   "execution_count": 40,
   "metadata": {
    "id": "E7kOiGQG42WM"
   },
   "outputs": [],
   "source": [
    "ds = DRIVEDataset(\"data/patches/\", \"*_*_img.jpg\", \"*_*_vessel.jpg\")"
   ]
  },
  {
   "cell_type": "code",
   "execution_count": 13,
   "metadata": {
    "colab": {
     "base_uri": "https://localhost:8080/"
    },
    "id": "KJ9lLrSu-OYb",
    "outputId": "bfd83ce8-f245-4d62-82f5-7acfc6b7d355"
   },
   "outputs": [
    {
     "data": {
      "text/plain": [
       "[12957, 4344, 19181, 15258, 4738]"
      ]
     },
     "execution_count": 13,
     "metadata": {
      "tags": []
     },
     "output_type": "execute_result"
    }
   ],
   "source": [
    "train_idx, test_idx = train_test_split([*range(len(ds))], test_size=0.3)\n",
    "train_idx[:5]"
   ]
  },
  {
   "cell_type": "code",
   "execution_count": 41,
   "metadata": {
    "id": "vIbowCbZ-P-T"
   },
   "outputs": [],
   "source": [
    "train_loader = DataLoader(ds, 3, False, SubsetRandomSampler(train_idx))\n",
    "test_loader = DataLoader(ds, 3, False, SubsetRandomSampler(test_idx))"
   ]
  },
  {
   "cell_type": "code",
   "execution_count": 42,
   "metadata": {
    "id": "FOSr2h-XI99u"
   },
   "outputs": [],
   "source": [
    "for b in train_loader:\n",
    "  break"
   ]
  },
  {
   "cell_type": "code",
   "execution_count": 44,
   "metadata": {
    "colab": {
     "base_uri": "https://localhost:8080/",
     "height": 267
    },
    "id": "MQGYzFfil0HO",
    "outputId": "2f1d851a-6595-452d-aa81-ed6c7510f616"
   },
   "outputs": [
    {
     "data": {
      "image/png": "[encoded data removed]",
      "text/plain": [
       "<Figure size 432x288 with 1 Axes>"
      ]
     },
     "metadata": {
      "needs_background": "light",
      "tags": []
     },
     "output_type": "display_data"
    }
   ],
   "source": [
    "plt.imshow(b['image'][2].squeeze().numpy(), cmap=\"binary_r\");"
   ]
  },
  {
   "cell_type": "code",
   "execution_count": 45,
   "metadata": {
    "colab": {
     "base_uri": "https://localhost:8080/",
     "height": 267
    },
    "id": "zYkx0MOYmPJD",
    "outputId": "68579429-aa5b-4c15-f114-cfc4cead37d0"
   },
   "outputs": [
    {
     "data": {
      "image/png": "[encoded data removed]",
      "text/plain": [
       "<Figure size 432x288 with 1 Axes>"
      ]
     },
     "metadata": {
      "needs_background": "light",
      "tags": []
     },
     "output_type": "display_data"
    }
   ],
   "source": [
    "plt.imshow(b['mask'][2].squeeze().numpy(), cmap=\"binary_r\");"
   ]
  },
  {
   "cell_type": "code",
   "execution_count": 19,
   "metadata": {
    "id": "qTtPySy--Vz1"
   },
   "outputs": [],
   "source": [
    "class BaseConv(nn.Module):\n",
    "    def __init__(self, in_channels, out_channels, kernel_size, padding,\n",
    "                 stride):\n",
    "        super(BaseConv, self).__init__()\n",
    "\n",
    "        self.act = nn.ReLU()\n",
    "\n",
    "        self.conv1 = nn.Conv2d(in_channels, out_channels, kernel_size, padding,\n",
    "                               stride)\n",
    "\n",
    "        self.conv2 = nn.Conv2d(out_channels, out_channels, kernel_size,\n",
    "                               padding, stride)\n",
    "\n",
    "    def forward(self, x):\n",
    "        x = self.act(self.conv1(x))\n",
    "        x = self.act(self.conv2(x))\n",
    "        return x\n",
    "\n",
    "\n",
    "class DownConv(nn.Module):\n",
    "    def __init__(self, in_channels, out_channels, kernel_size, padding,\n",
    "                 stride):\n",
    "        super(DownConv, self).__init__()\n",
    "\n",
    "        self.pool1 = nn.MaxPool2d(kernel_size=2)\n",
    "        self.conv_block = BaseConv(in_channels, out_channels, kernel_size,\n",
    "                                   padding, stride)\n",
    "\n",
    "    def forward(self, x):\n",
    "        x = self.pool1(x)\n",
    "        x = self.conv_block(x)\n",
    "        return x\n",
    "\n",
    "\n",
    "class UpConv(nn.Module):\n",
    "    def __init__(self, in_channels, in_channels_skip, out_channels,\n",
    "                 kernel_size, padding, stride):\n",
    "        super(UpConv, self).__init__()\n",
    "\n",
    "        self.conv_trans1 = nn.ConvTranspose2d(\n",
    "            in_channels, in_channels, kernel_size=2, padding=0, stride=2)\n",
    "        self.conv_block = BaseConv(\n",
    "            in_channels=in_channels + in_channels_skip,\n",
    "            out_channels=out_channels,\n",
    "            kernel_size=kernel_size,\n",
    "            padding=padding,\n",
    "            stride=stride)\n",
    "\n",
    "    def forward(self, x, x_skip):\n",
    "        x = self.conv_trans1(x)\n",
    "        x = torch.cat((x, x_skip), dim=1)\n",
    "        x = self.conv_block(x)\n",
    "        return x\n",
    "\n",
    "\n",
    "class UNet(nn.Module):\n",
    "    def __init__(self, in_channels, out_channels, n_class, kernel_size,\n",
    "                 padding, stride):\n",
    "        super(UNet, self).__init__()\n",
    "\n",
    "        self.init_conv = BaseConv(in_channels, out_channels, kernel_size,\n",
    "                                  padding, stride)\n",
    "\n",
    "        self.down1 = DownConv(out_channels, 2 * out_channels, kernel_size,\n",
    "                              padding, stride)\n",
    "\n",
    "        self.down2 = DownConv(2 * out_channels, 4 * out_channels, kernel_size,\n",
    "                              padding, stride)\n",
    "\n",
    "        self.down3 = DownConv(4 * out_channels, 8 * out_channels, kernel_size,\n",
    "                              padding, stride)\n",
    "\n",
    "        self.up3 = UpConv(8 * out_channels, 4 * out_channels, 4 * out_channels,\n",
    "                          kernel_size, padding, stride)\n",
    "\n",
    "        self.up2 = UpConv(4 * out_channels, 2 * out_channels, 2 * out_channels,\n",
    "                          kernel_size, padding, stride)\n",
    "\n",
    "        self.up1 = UpConv(2 * out_channels, out_channels, out_channels,\n",
    "                          kernel_size, padding, stride)\n",
    "\n",
    "        self.out = nn.Conv2d(out_channels, n_class, kernel_size, padding, stride)\n",
    "\n",
    "    def forward(self, x):\n",
    "        # Encoder\n",
    "        x = self.init_conv(x)\n",
    "        x1 = self.down1(x)\n",
    "        x2 = self.down2(x1)\n",
    "        x3 = self.down3(x2)\n",
    "        # Decoder\n",
    "        x_up = self.up3(x3, x2)\n",
    "        x_up = self.up2(x_up, x1)\n",
    "        x_up = self.up1(x_up, x)\n",
    "        x_out = self.out(x_up)\n",
    "        return x_out"
   ]
  },
  {
   "cell_type": "code",
   "execution_count": 20,
   "metadata": {
    "id": "R5ljI-qf7h5F"
   },
   "outputs": [],
   "source": [
    "torch.cuda.empty_cache()"
   ]
  },
  {
   "cell_type": "code",
   "execution_count": 21,
   "metadata": {
    "id": "pRZ0tYbYnLvs"
   },
   "outputs": [],
   "source": [
    "def train(model, data_loader, optimzer, criterion, device):\n",
    "  epoch_loss = 0.0\n",
    "\n",
    "  model.train()\n",
    "  for batch in data_loader:\n",
    "    img = batch['image']\n",
    "    mask = batch['mask']\n",
    "    img = img.to(device, dtype=torch.float32)\n",
    "    mask = mask.to(device, dtype=torch.float32)\n",
    "\n",
    "    optimizer.zero_grad()\n",
    "    pred = model(img)\n",
    "    loss = criterion(pred, mask)\n",
    "    loss.backward()\n",
    "    optimizer.step()\n",
    "    epoch_loss += loss.item()\n",
    "\n",
    "  epoch_loss = epoch_loss/len(data_loader)\n",
    "  return epoch_loss"
   ]
  },
  {
   "cell_type": "code",
   "execution_count": 22,
   "metadata": {
    "id": "--JAG8hInw4X"
   },
   "outputs": [],
   "source": [
    "def evaluate(model, data_loader, criterion, device):\n",
    "    epoch_loss = 0.0\n",
    "\n",
    "    model.eval()\n",
    "    with torch.no_grad():\n",
    "        for batch in data_loader:\n",
    "          img = batch['image']\n",
    "          mask = batch['mask']\n",
    "          img = img.to(device, dtype=torch.float32)\n",
    "          mask = mask.to(device, dtype=torch.float32)\n",
    "          pred = model(img)\n",
    "          loss = criterion(pred, mask)\n",
    "          epoch_loss += loss.item()\n",
    "\n",
    "        epoch_loss = epoch_loss/len(data_loader)\n",
    "    return epoch_loss"
   ]
  },
  {
   "cell_type": "code",
   "execution_count": 23,
   "metadata": {
    "id": "irO23ZzZ-fOD"
   },
   "outputs": [],
   "source": [
    "model = UNet(in_channels=1,\n",
    "             out_channels=64,\n",
    "             n_class=1,\n",
    "             kernel_size=3,\n",
    "             padding=1,\n",
    "             stride=1)"
   ]
  },
  {
   "cell_type": "code",
   "execution_count": 24,
   "metadata": {
    "id": "FdnBlUpi-imT"
   },
   "outputs": [],
   "source": [
    "model = model.to(device=device)"
   ]
  },
  {
   "cell_type": "code",
   "execution_count": 25,
   "metadata": {
    "id": "CnrQlRCr8BhU"
   },
   "outputs": [],
   "source": [
    "class DiceLoss(nn.Module):\n",
    "    def __init__(self, weight=None, size_average=True):\n",
    "        super(DiceLoss, self).__init__()\n",
    "\n",
    "    def forward(self, inputs, targets, smooth=1):\n",
    "\n",
    "        #comment out if your model contains a sigmoid or equivalent activation layer\n",
    "        inputs = torch.sigmoid(inputs)\n",
    "\n",
    "        #flatten label and prediction tensors\n",
    "        inputs = inputs.view(-1)\n",
    "        targets = targets.view(-1)\n",
    "\n",
    "        intersection = (inputs * targets).sum()\n",
    "        dice = (2.*intersection + smooth)/(inputs.sum() + targets.sum() + smooth)\n",
    "\n",
    "        return 1 - dice\n",
    "\n",
    "class DiceBCELoss(nn.Module):\n",
    "    def __init__(self, weight=None, size_average=True):\n",
    "        super(DiceBCELoss, self).__init__()\n",
    "\n",
    "    def forward(self, inputs, targets, smooth=1):\n",
    "\n",
    "        #comment out if your model contains a sigmoid or equivalent activation layer\n",
    "        inputs = torch.sigmoid(inputs)\n",
    "\n",
    "        #flatten label and prediction tensors\n",
    "        inputs = inputs.view(-1)\n",
    "        targets = targets.view(-1)\n",
    "\n",
    "        intersection = (inputs * targets).sum()\n",
    "        dice_loss = 1 - (2.*intersection + smooth)/(inputs.sum() + targets.sum() + smooth)\n",
    "        BCE = F.binary_cross_entropy(inputs, targets, reduction='mean')\n",
    "        Dice_BCE = BCE + dice_loss\n",
    "\n",
    "        return Dice_BCE"
   ]
  },
  {
   "cell_type": "code",
   "execution_count": 26,
   "metadata": {
    "id": "JgNMw6it-w6S"
   },
   "outputs": [],
   "source": [
    "# criterion = nn.BCEWithLogitsLoss()\n",
    "criterion = DiceBCELoss()\n",
    "optimizer = optim.Adam(model.parameters(), lr=1e-05)\n",
    "scheduler = optim.lr_scheduler.ReduceLROnPlateau(optimizer, 'min', patience=3, verbose=True)"
   ]
  },
  {
   "cell_type": "code",
   "execution_count": 29,
   "metadata": {
    "id": "oAfMj0PMpZZL"
   },
   "outputs": [],
   "source": [
    "checkpoint_path = \"UNet_Patch.pth\""
   ]
  },
  {
   "cell_type": "code",
   "execution_count": 46,
   "metadata": {
    "colab": {
     "base_uri": "https://localhost:8080/"
    },
    "id": "FAvnlTlaoeSX",
    "outputId": "dd9358f3-576b-412a-aba7-9e62674161d9"
   },
   "outputs": [
    {
     "name": "stdout",
     "output_type": "stream",
     "text": [
      "Valid loss improved from inf to 0.5835\n",
      "Epoch: 1 TrainLoss:  0.731 TestLoss:  0.584\n",
      "Valid loss improved from 0.5835 to 0.5603\n",
      "Epoch: 2 TrainLoss:  0.576 TestLoss:  0.560\n",
      "Valid loss improved from 0.5603 to 0.5286\n",
      "Epoch: 3 TrainLoss:  0.541 TestLoss:  0.529\n",
      "Valid loss improved from 0.5286 to 0.4952\n",
      "Epoch: 4 TrainLoss:  0.513 TestLoss:  0.495\n",
      "Valid loss improved from 0.4952 to 0.4715\n",
      "Epoch: 5 TrainLoss:  0.490 TestLoss:  0.471\n",
      "Valid loss improved from 0.4715 to 0.4715\n",
      "Epoch: 6 TrainLoss:  0.475 TestLoss:  0.471\n",
      "Valid loss improved from 0.4715 to 0.4560\n",
      "Epoch: 7 TrainLoss:  0.462 TestLoss:  0.456\n",
      "Valid loss improved from 0.4560 to 0.4426\n",
      "Epoch: 8 TrainLoss:  0.450 TestLoss:  0.443\n",
      "Valid loss improved from 0.4426 to 0.4295\n",
      "Epoch: 9 TrainLoss:  0.439 TestLoss:  0.429\n",
      "Valid loss improved from 0.4295 to 0.4254\n",
      "Epoch: 10 TrainLoss:  0.429 TestLoss:  0.425\n",
      "Epoch: 11 TrainLoss:  0.420 TestLoss:  0.425\n",
      "Valid loss improved from 0.4254 to 0.4159\n",
      "Epoch: 12 TrainLoss:  0.409 TestLoss:  0.416\n",
      "Valid loss improved from 0.4159 to 0.4019\n",
      "Epoch: 13 TrainLoss:  0.400 TestLoss:  0.402\n",
      "Valid loss improved from 0.4019 to 0.3968\n",
      "Epoch: 14 TrainLoss:  0.391 TestLoss:  0.397\n",
      "Valid loss improved from 0.3968 to 0.3905\n",
      "Epoch: 15 TrainLoss:  0.383 TestLoss:  0.391\n",
      "Valid loss improved from 0.3905 to 0.3826\n",
      "Epoch: 16 TrainLoss:  0.374 TestLoss:  0.383\n",
      "Valid loss improved from 0.3826 to 0.3750\n",
      "Epoch: 17 TrainLoss:  0.365 TestLoss:  0.375\n",
      "Valid loss improved from 0.3750 to 0.3657\n",
      "Epoch: 18 TrainLoss:  0.357 TestLoss:  0.366\n",
      "Valid loss improved from 0.3657 to 0.3630\n",
      "Epoch: 19 TrainLoss:  0.348 TestLoss:  0.363\n",
      "Valid loss improved from 0.3630 to 0.3589\n",
      "Epoch: 20 TrainLoss:  0.340 TestLoss:  0.359\n",
      "Valid loss improved from 0.3589 to 0.3535\n",
      "Epoch: 21 TrainLoss:  0.332 TestLoss:  0.353\n",
      "Valid loss improved from 0.3535 to 0.3488\n",
      "Epoch: 22 TrainLoss:  0.323 TestLoss:  0.349\n",
      "Valid loss improved from 0.3488 to 0.3431\n",
      "Epoch: 23 TrainLoss:  0.315 TestLoss:  0.343\n",
      "Epoch: 24 TrainLoss:  0.307 TestLoss:  0.349\n",
      "Valid loss improved from 0.3431 to 0.3371\n",
      "Epoch: 25 TrainLoss:  0.299 TestLoss:  0.337\n",
      "Valid loss improved from 0.3371 to 0.3320\n",
      "Epoch: 26 TrainLoss:  0.290 TestLoss:  0.332\n",
      "Valid loss improved from 0.3320 to 0.3303\n",
      "Epoch: 27 TrainLoss:  0.283 TestLoss:  0.330\n",
      "Valid loss improved from 0.3303 to 0.3292\n",
      "Epoch: 28 TrainLoss:  0.276 TestLoss:  0.329\n",
      "Valid loss improved from 0.3292 to 0.3268\n",
      "Epoch: 29 TrainLoss:  0.269 TestLoss:  0.327\n",
      "Epoch: 30 TrainLoss:  0.262 TestLoss:  0.330\n",
      "Valid loss improved from 0.3268 to 0.3220\n",
      "Epoch: 31 TrainLoss:  0.255 TestLoss:  0.322\n",
      "Epoch: 32 TrainLoss:  0.249 TestLoss:  0.322\n",
      "Valid loss improved from 0.3220 to 0.3203\n",
      "Epoch: 33 TrainLoss:  0.243 TestLoss:  0.320\n",
      "Valid loss improved from 0.3203 to 0.3187\n",
      "Epoch: 34 TrainLoss:  0.238 TestLoss:  0.319\n",
      "Epoch: 35 TrainLoss:  0.232 TestLoss:  0.323\n",
      "Valid loss improved from 0.3187 to 0.3163\n",
      "Epoch: 36 TrainLoss:  0.228 TestLoss:  0.316\n",
      "Epoch: 37 TrainLoss:  0.223 TestLoss:  0.318\n",
      "Epoch: 38 TrainLoss:  0.218 TestLoss:  0.317\n",
      "Epoch: 39 TrainLoss:  0.214 TestLoss:  0.318\n",
      "Valid loss improved from 0.3163 to 0.3146\n",
      "Epoch: 40 TrainLoss:  0.211 TestLoss:  0.315\n",
      "Epoch: 41 TrainLoss:  0.207 TestLoss:  0.316\n",
      "Epoch: 42 TrainLoss:  0.203 TestLoss:  0.315\n",
      "Epoch: 43 TrainLoss:  0.200 TestLoss:  0.317\n",
      "Valid loss improved from 0.3146 to 0.3136\n",
      "Epoch: 44 TrainLoss:  0.197 TestLoss:  0.314\n",
      "Valid loss improved from 0.3136 to 0.3131\n",
      "Epoch: 45 TrainLoss:  0.194 TestLoss:  0.313\n",
      "Epoch: 46 TrainLoss:  0.192 TestLoss:  0.315\n",
      "Epoch: 47 TrainLoss:  0.189 TestLoss:  0.314\n",
      "Epoch: 48 TrainLoss:  0.187 TestLoss:  0.315\n",
      "Epoch: 49 TrainLoss:  0.184 TestLoss:  0.316\n",
      "Epoch: 50 TrainLoss:  0.182 TestLoss:  0.317\n",
      "Epoch: 51 TrainLoss:  0.180 TestLoss:  0.319\n",
      "Epoch: 52 TrainLoss:  0.178 TestLoss:  0.315\n",
      "Epoch: 53 TrainLoss:  0.175 TestLoss:  0.317\n",
      "Epoch: 54 TrainLoss:  0.174 TestLoss:  0.314\n",
      "Epoch: 55 TrainLoss:  0.172 TestLoss:  0.316\n",
      "Epoch: 56 TrainLoss:  0.170 TestLoss:  0.319\n",
      "Epoch: 57 TrainLoss:  0.168 TestLoss:  0.317\n",
      "Epoch: 58 TrainLoss:  0.167 TestLoss:  0.316\n",
      "Epoch: 59 TrainLoss:  0.165 TestLoss:  0.317\n",
      "Epoch: 60 TrainLoss:  0.163 TestLoss:  0.316\n",
      "Epoch: 61 TrainLoss:  0.162 TestLoss:  0.316\n",
      "Epoch: 62 TrainLoss:  0.161 TestLoss:  0.318\n",
      "Epoch: 63 TrainLoss:  0.159 TestLoss:  0.318\n",
      "Epoch: 64 TrainLoss:  0.158 TestLoss:  0.314\n",
      "Epoch: 65 TrainLoss:  0.157 TestLoss:  0.317\n",
      "Epoch: 66 TrainLoss:  0.155 TestLoss:  0.319\n",
      "Epoch: 67 TrainLoss:  0.154 TestLoss:  0.318\n",
      "Epoch: 68 TrainLoss:  0.153 TestLoss:  0.318\n",
      "Epoch: 69 TrainLoss:  0.152 TestLoss:  0.319\n",
      "Epoch: 70 TrainLoss:  0.151 TestLoss:  0.316\n",
      "Epoch: 71 TrainLoss:  0.150 TestLoss:  0.317\n",
      "Epoch: 72 TrainLoss:  0.149 TestLoss:  0.320\n",
      "Epoch: 73 TrainLoss:  0.147 TestLoss:  0.320\n",
      "Epoch: 74 TrainLoss:  0.147 TestLoss:  0.317\n",
      "Epoch: 75 TrainLoss:  0.145 TestLoss:  0.319\n",
      "Epoch: 76 TrainLoss:  0.144 TestLoss:  0.319\n",
      "Epoch: 77 TrainLoss:  0.144 TestLoss:  0.321\n",
      "Epoch: 78 TrainLoss:  0.143 TestLoss:  0.320\n",
      "Epoch: 79 TrainLoss:  0.141 TestLoss:  0.319\n",
      "Epoch: 80 TrainLoss:  0.141 TestLoss:  0.319\n",
      "Epoch: 81 TrainLoss:  0.140 TestLoss:  0.319\n",
      "Epoch: 82 TrainLoss:  0.139 TestLoss:  0.319\n",
      "Epoch: 83 TrainLoss:  0.138 TestLoss:  0.319\n",
      "Epoch: 84 TrainLoss:  0.137 TestLoss:  0.320\n",
      "Epoch: 85 TrainLoss:  0.137 TestLoss:  0.322\n",
      "Epoch: 86 TrainLoss:  0.136 TestLoss:  0.322\n",
      "Epoch: 87 TrainLoss:  0.136 TestLoss:  0.322\n",
      "Epoch: 88 TrainLoss:  0.134 TestLoss:  0.321\n",
      "Epoch: 89 TrainLoss:  0.134 TestLoss:  0.324\n",
      "Epoch: 90 TrainLoss:  0.133 TestLoss:  0.320\n",
      "Epoch: 91 TrainLoss:  0.132 TestLoss:  0.321\n",
      "Epoch: 92 TrainLoss:  0.132 TestLoss:  0.324\n",
      "Epoch: 93 TrainLoss:  0.131 TestLoss:  0.320\n",
      "Epoch: 94 TrainLoss:  0.131 TestLoss:  0.322\n",
      "Epoch: 95 TrainLoss:  0.130 TestLoss:  0.321\n",
      "Epoch: 96 TrainLoss:  0.129 TestLoss:  0.321\n",
      "Epoch: 97 TrainLoss:  0.129 TestLoss:  0.320\n",
      "Epoch: 98 TrainLoss:  0.128 TestLoss:  0.323\n",
      "Epoch: 99 TrainLoss:  0.127 TestLoss:  0.323\n",
      "Epoch: 100 TrainLoss:  0.127 TestLoss:  0.324\n"
     ]
    }
   ],
   "source": [
    "best_valid_loss = float(\"inf\")\n",
    "for epoch in range(100):\n",
    "  train_loss = train(model, train_loader, optimizer, criterion, device)\n",
    "  test_loss = evaluate(model, test_loader, criterion, device)\n",
    "\n",
    "  \"\"\" Saving the model \"\"\"\n",
    "  if test_loss < best_valid_loss:\n",
    "      data_str = f\"Valid loss improved from {best_valid_loss:2.4f} to {test_loss:2.4f}\"\n",
    "      print(data_str)\n",
    "\n",
    "      best_valid_loss = test_loss\n",
    "      torch.save(model.state_dict(), checkpoint_path)\n",
    "\n",
    "  print(f\"Epoch: {epoch + 1} TrainLoss: {train_loss: .3f} TestLoss: {test_loss: .3f}\")"
   ]
  },
  {
   "cell_type": "code",
   "execution_count": 60,
   "metadata": {
    "id": "f-MhB7n3ua5k"
   },
   "outputs": [],
   "source": [
    "with torch.no_grad():\n",
    "  img = b['image'][2].to(device=device, dtype=torch.float32).unsqueeze(1)\n",
    "  pred_y = model(img)\n",
    "  pred_y = torch.sigmoid(pred_y)"
   ]
  },
  {
   "cell_type": "code",
   "execution_count": 61,
   "metadata": {
    "colab": {
     "base_uri": "https://localhost:8080/",
     "height": 285
    },
    "id": "zQeK0855u-as",
    "outputId": "8f1038d2-6210-468a-8238-5df40a2533a8"
   },
   "outputs": [
    {
     "data": {
      "text/plain": [
       "<matplotlib.image.AxesImage at 0x7fc74180a690>"
      ]
     },
     "execution_count": 61,
     "metadata": {
      "tags": []
     },
     "output_type": "execute_result"
    },
    {
     "data": {
      "image/png": "[encoded data removed]",
      "text/plain": [
       "<Figure size 432x288 with 1 Axes>"
      ]
     },
     "metadata": {
      "needs_background": "light",
      "tags": []
     },
     "output_type": "display_data"
    }
   ],
   "source": [
    "plt.imshow(pred_y.detach().to(\"cpu\").squeeze().numpy(), cmap=\"binary_r\")"
   ]
  },
  {
   "cell_type": "code",
   "execution_count": 62,
   "metadata": {
    "colab": {
     "base_uri": "https://localhost:8080/",
     "height": 267
    },
    "id": "98JnySravv7S",
    "outputId": "57f0894e-777b-4b37-bcc0-bb22a7f9df6d"
   },
   "outputs": [
    {
     "data": {
      "image/png": "[encoded data removed]",
      "text/plain": [
       "<Figure size 432x288 with 1 Axes>"
      ]
     },
     "metadata": {
      "needs_background": "light",
      "tags": []
     },
     "output_type": "display_data"
    }
   ],
   "source": [
    "plt.imshow(b['mask'][2].squeeze().numpy(), cmap=\"binary_r\");"
   ]
  },
  {
   "cell_type": "code",
   "execution_count": 112,
   "metadata": {
    "id": "AIr8hWO3OEmY"
   },
   "outputs": [],
   "source": [
    "from sklearn.metrics import accuracy_score, f1_score, roc_curve, auc, roc_auc_score"
   ]
  },
  {
   "cell_type": "code",
   "execution_count": 96,
   "metadata": {
    "id": "TfWtw9XdS_Wt"
   },
   "outputs": [],
   "source": [
    "test_loader = DataLoader(ds, 1, False, SubsetRandomSampler(test_idx))"
   ]
  },
  {
   "cell_type": "code",
   "execution_count": 114,
   "metadata": {
    "colab": {
     "base_uri": "https://localhost:8080/"
    },
    "id": "YRZGN9m8TCT4",
    "outputId": "4498bc6f-a5a0-42e1-d2d2-d78d1e5afaee"
   },
   "outputs": [
    {
     "name": "stdout",
     "output_type": "stream",
     "text": [
      "Accuracy: 0.962843532986111\n",
      "F1 Score: 0.865359376621077\n",
      "ROC AUC Score: 0.9198056534314049\n"
     ]
    }
   ],
   "source": [
    "acc = []\n",
    "f1 = []\n",
    "roc = []\n",
    "\n",
    "with torch.no_grad():\n",
    "  for batch in test_loader:\n",
    "    img = batch['image']\n",
    "    mask = batch['mask']\n",
    "\n",
    "    img = img.to(device, dtype=torch.float32)\n",
    "    mask = mask.to(device, dtype=torch.float32)\n",
    "\n",
    "    pred_y = model(img)\n",
    "    pred_y = torch.sigmoid(pred_y)\n",
    "\n",
    "    pred = pred_y.detach().to(\"cpu\").squeeze().numpy()\n",
    "    pred = pred > 0.5\n",
    "    pred = pred.reshape(-1)\n",
    "\n",
    "    true = mask.detach().to(\"cpu\").squeeze().numpy()\n",
    "    true = true > 0.5\n",
    "    true = true.reshape(-1)\n",
    "\n",
    "    acc.append(accuracy_score(true, pred))\n",
    "    f1.append(f1_score(true, pred))\n",
    "    roc.append(roc_auc_score(true, pred))\n",
    "\n",
    "print(f\"Accuracy: {np.mean(acc)}\")\n",
    "print(f\"F1 Score: {np.mean(f1)}\")\n",
    "print(f\"ROC AUC Score: {np.mean(roc)}\")"
   ]
  }
 ],
 "metadata": {
  "accelerator": "GPU",
  "colab": {
   "collapsed_sections": [],
   "machine_shape": "hm",
   "name": "Unet Pytroch.ipynb",
   "provenance": []
  },
  "kernelspec": {
   "display_name": "exp",
   "language": "python",
   "name": "python3"
  },
  "language_info": {
   "codemirror_mode": {
    "name": "ipython",
    "version": 3
   },
   "file_extension": ".py",
   "mimetype": "text/x-python",
   "name": "python",
   "nbconvert_exporter": "python",
   "pygments_lexer": "ipython3",
   "version": "3.8.6"
  },
  "varInspector": {
   "cols": {
    "lenName": 16,
    "lenType": 16,
    "lenVar": 40
   },
   "kernels_config": {
    "python": {
     "delete_cmd_postfix": "",
     "delete_cmd_prefix": "del ",
     "library": "var_list.py",
     "varRefreshCmd": "print(var_dic_list())"
    },
    "r": {
     "delete_cmd_postfix": ") ",
     "delete_cmd_prefix": "rm(",
     "library": "var_list.r",
     "varRefreshCmd": "cat(var_dic_list()) "
    }
   },
   "types_to_exclude": [
    "module",
    "function",
    "builtin_function_or_method",
    "instance",
    "_Feature"
   ],
   "window_display": false
  }
 },
 "nbformat": 4,
 "nbformat_minor": 1
}
